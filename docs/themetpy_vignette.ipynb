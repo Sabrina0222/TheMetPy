{
  "cells": [
    {
      "cell_type": "markdown",
      "metadata": {},
      "source": [
        "# TheMetPy Vignette\n",
        "\n",
        "TheMetPy is a Python client for The Metropolitan Museum of Art's Open Access API. It provides easy access to artwork metadata, object records, department details, and advanced search functionality. This vignette demonstrates how to use the key features of the `themetpy` package."
      ]
    },
    {
      "cell_type": "markdown",
      "metadata": {},
      "source": [
        "## Installation\n",
        "\n",
        "Install TheMetPy from PyPI:\n",
        "\n",
        "```bash\n",
        "pip install themetpy\n",
        "```\n"
      ]
    },
    {
      "cell_type": "markdown",
      "metadata": {},
      "source": [
        "## Importing TheMetPy\n",
        "\n",
        "Before using the package, import the required modules:"
      ]
    },
    {
      "cell_type": "code",
      "execution_count": null,
      "metadata": {},
      "outputs": [],
      "source": [
        "from themetpy import get_all_object_ids, get_object, get_departments, search\n"
      ]
    },
    {
      "cell_type": "markdown",
      "id": "e01499f4",
      "metadata": {},
      "source": [
        "## Quick Start\n",
        "\n",
        "After installation, you can start using **TheMetPy** to interact with The Met’s Open Access API."
      ]
    },
    {
      "cell_type": "code",
      "execution_count": null,
      "id": "6b1ba0ff",
      "metadata": {},
      "outputs": [],
      "source": [
        "# 1. List all Object IDs in Department 6 (Asian Art)\n",
        "object_ids = get_all_object_ids(departmentIds=6)\n",
        "print(f\"Total Object IDs in Department 6: {len(object_ids)}\")\n",
        "\n",
        "# 2. Retrieve details of a specific object (objectID: 45734)\n",
        "object_data = get_object(45734, handle_missing='replace', replace_value='Unknown', verbose=True)\n",
        "print(object_data)\n",
        "\n",
        "# 3. List all departments\n",
        "departments = get_departments()\n",
        "for dept in departments:\n",
        "    print(f\"ID: {dept['departmentId']}, Name: {dept['displayName']}\")\n",
        "\n",
        "# 4. Perform an advanced search\n",
        "search_results = search(\n",
        "    query=\"sunflowers\",\n",
        "    isHighlight=True,\n",
        "    medium=\"Paintings\",\n",
        "    hasImages=True,\n",
        "    dateBegin=1800,\n",
        "    dateEnd=1900\n",
        ")\n",
        "print(f\"Found {len(search_results)} objects matching the search criteria.\")"
      ]
    },
    {
      "cell_type": "markdown",
      "metadata": {},
      "source": [
        "## Fetching A List of All Object IDs\n",
        "\n",
        "Retrieve all available Object IDs from The Met collection. You can filter results by metadata update date and department.\n",
        "\n",
        "* Parameters:\n",
        "\t* metadataDate (str, optional): Return objects with updated data after this date (format: YYYY-MM-DD).\n",
        "\t* departmentIds (list or int, optional): Filter by department ID(s).\n",
        "\n",
        "* Returns:\n",
        "\t* list: A list of Object IDs."
      ]
    },
    {
      "cell_type": "code",
      "execution_count": null,
      "metadata": {},
      "outputs": [],
      "source": [
        "# Fetch all object IDs\n",
        "all_object_ids = get_all_object_ids()\n",
        "print(all_object_ids)\n",
        "\n",
        "# Fetch object IDs updated after a specific date\n",
        "recent_object_ids = get_all_object_ids(metadataDate=\"2021-01-01\")\n",
        "print(recent_object_ids)\n",
        "\n",
        "# Fetch object IDs from specific departments (using department's ID)\n",
        "department_object_ids = get_all_object_ids(departmentIds=[1, 3, 6])\n",
        "print(department_object_ids)"
      ]
    },
    {
      "cell_type": "markdown",
      "metadata": {},
      "source": [
        "## Fetching Object Details\n",
        "\n",
        "Fetch detailed information about a specific artwork using its Object ID. You can specify how to handle missing data.\n",
        "\n",
        "* Parameters:\n",
        "\t* objectID (int): The Object ID of the artwork.\n",
        "\t* handle_missing (str): Strategy for handling missing data. Options:\n",
        "\t* 'log': Log a warning for missing fields.\n",
        "\t* 'filter': Exclude records with missing data.\n",
        "\t* 'replace': Replace missing fields with a specified value.\n",
        "\t* replace_value (str): Value to replace missing fields with (used when handle_missing='replace').\n",
        "\t* verbose (bool): If True, prints warnings about missing data fields.\n",
        "\t* raw (bool): If True, returns the raw JSON data without processing.\n",
        "\n",
        "* Returns:\n",
        "\t* dict or None: Return the object’s data as a dictionary, or None if filtered out."
      ]
    },
    {
      "cell_type": "code",
      "execution_count": null,
      "metadata": {},
      "outputs": [],
      "source": [
        "# Fetch object data with missing fields replaced by 'Unknown'\n",
        "object_data = get_object(\n",
        "    objectID=45734,\n",
        "    handle_missing='replace',\n",
        "    replace_value='Unknown',\n",
        "    verbose=True\n",
        ")\n",
        "print(object_data)"
      ]
    },
    {
      "cell_type": "markdown",
      "metadata": {},
      "source": [
        "## Listing Departments\n",
        "\n",
        "Fetch a list of all departments within The Met, including their IDs and display names.\n",
        "\n",
        "* Parameters: None\n",
        "\n",
        "* Returns:\n",
        "\t* list: A list of dictionaries containing departmentId and displayName."
      ]
    },
    {
      "cell_type": "code",
      "execution_count": null,
      "metadata": {},
      "outputs": [],
      "source": [
        "# List all departments\n",
        "departments = get_departments()\n",
        "for dept in departments:\n",
        "    print(f\"ID: {dept['departmentId']}, Name: {dept['displayName']}\")"
      ]
    },
    {
      "cell_type": "markdown",
      "metadata": {},
      "source": [
        "## Advanced Search\n",
        "\n",
        "Perform complex searches across The Met’s collection using various parameters to filter results.\n",
        "\n",
        "* Parameters:\n",
        "\t* query (str): Search term.\n",
        "\t* isHighlight (bool, optional): Filter by highlighted artworks.\n",
        "\t* title (bool, optional): Search within titles.\n",
        "\t* tags (bool, optional): Search within subject keyword tags.\n",
        "\t* departmentId (int, optional): Filter by department ID.\n",
        "\t* isOnView (bool, optional): Filter by objects currently on view.\n",
        "\t* artistOrCulture (bool, optional): Search within artist name or culture fields.\n",
        "\t* medium (str, optional): Filter by medium or object type (multiple values separated by |).\n",
        "\t* hasImages (bool, optional): Filter by objects that have images.\n",
        "\t* geoLocation (str, optional): Filter by geographic location (multiple values separated by |).\n",
        "\t* dateBegin (int, optional): Start year for date range.\n",
        "\t* dateEnd (int, optional): End year for date range.\n",
        "\n",
        "* Returns:\n",
        "\t* list: A list of Object IDs matching the search criteria."
      ]
    },
    {
      "cell_type": "code",
      "execution_count": null,
      "metadata": {},
      "outputs": [],
      "source": [
        "# Perform an advanced search\n",
        "# Example\n",
        "search_results = search(\n",
        "    query=\"impressionism\",\n",
        "    isHighlight=True,\n",
        "    medium=\"Paintings\",\n",
        "    hasImages=True,\n",
        "    dateBegin=1850,\n",
        "    dateEnd=1900\n",
        ")\n",
        "print(f\"Found {len(search_results)} objects matching the search criteria.\")"
      ]
    },
    {
      "cell_type": "markdown",
      "metadata": {},
      "source": [
        "## Handling Missing Data\n",
        "\n",
        "Handle missing data in object records gracefully using `handle_missing_data`."
      ]
    },
    {
      "cell_type": "code",
      "execution_count": null,
      "metadata": {},
      "outputs": [],
      "source": [
        "from themetpy.utils import handle_missing_data\n",
        "\n",
        "# Example data with missing 'artistDisplayName'\n",
        "# Assume the data has no field called 'artistDisplayName'\n",
        "data = {\n",
        "    'title': 'Wheat Field with Cypresses',\n",
        "    'primaryImage': 'https://images.metmuseum.org/CRDImages/ep/original/DT1567.jpg',\n",
        "    'objectDate': '1889',\n",
        "    'medium': 'Oil on canvas',\n",
        "    'dimensions': '28 7/8 × 36 3/4 in. (73.2 × 93.4 cm)',\n",
        "    'department': 'European Paintings'\n",
        "}\n",
        "required_fields = ['title', 'artistDisplayName']\n",
        "\n",
        "# Handling missing data by logging\n",
        "handled_data = handle_missing_data(data, required_fields, handle_missing='log', verbose=True)\n",
        "# Warning: Missing fields: artistDisplayName\n",
        "print(handled_data)\n",
        "{\n",
        "    'title': 'Wheat Field with Cypresses',\n",
        "    'primaryImage': 'https://images.metmuseum.org/CRDImages/ep/original/DT1567.jpg',\n",
        "    'objectDate': '1889',\n",
        "    'medium': 'Oil on canvas',\n",
        "    'dimensions': '28 7/8 × 36 3/4 in. (73.2 × 93.4 cm)',\n",
        "    'department': 'European Paintings',\n",
        "    'artistDisplayName': None\n",
        "}\n",
        "\n",
        "\n",
        "# Handling missing data by replacing with 'Unknown'\n",
        "handled_data_replace = handle_missing_data(data, required_fields, handle_missing='replace', replace_value='Unknown', verbose=True)\n",
        "# Warning: Missing fields: artistDisplayName. Replaced with 'Unknown'.\n",
        "print(handled_data_replace)\n",
        "{\n",
        "    'title': 'Wheat Field with Cypresses',\n",
        "    'primaryImage': 'https://images.metmuseum.org/CRDImages/ep/original/DT1567.jpg',\n",
        "    'objectDate': '1889',\n",
        "    'medium': 'Oil on canvas',\n",
        "    'dimensions': '28 7/8 × 36 3/4 in. (73.2 × 93.4 cm)',\n",
        "    'department': 'European Paintings',\n",
        "    'artistDisplayName': 'Unknown'\n",
        "}\n",
        "\n",
        "\n",
        "# Handling missing data by filtering out the record\n",
        "handled_data_filter = handle_missing_data(data, required_fields, handle_missing='filter')\n",
        "print(handled_data_filter)\n",
        "None"
      ]
    },
    {
      "cell_type": "markdown",
      "metadata": {},
      "source": [
        "## Conclusion\n",
        "\n",
        "TheMetPy makes it easy to explore The Met's collection programmatically. With functions for fetching objects, listing departments, and performing advanced searches, it provides a comprehensive interface for developers and researchers. For more information, visit the official [documentation](https://themetpy.readthedocs.io/en/latest/) or the GitHub [repository](https://github.com/Sabrina0222/TheMetPy)."
      ]
    }
  ],
  "metadata": {
    "kernelspec": {
      "display_name": "Python 3",
      "language": "python",
      "name": "python3"
    },
    "language_info": {
      "codemirror_mode": {
        "name": "ipython",
        "version": 3
      },
      "file_extension": ".py",
      "mimetype": "text/x-python",
      "name": "python",
      "nbconvert_exporter": "python",
      "pygments_lexer": "ipython3",
      "version": "3.9.6"
    }
  },
  "nbformat": 4,
  "nbformat_minor": 5
}
