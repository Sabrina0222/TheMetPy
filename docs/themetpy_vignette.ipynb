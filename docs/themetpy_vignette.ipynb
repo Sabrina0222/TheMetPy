{
  "cells": [
    {
      "cell_type": "markdown",
      "metadata": {},
      "source": [
        "# TheMetPy Vignette\n",
        "\n",
        "TheMetPy is a Python client for The Metropolitan Museum of Art's Open Access API. It provides easy access to artwork metadata, object records, department details, and advanced search functionality. This vignette demonstrates how to use the key features of the `themetpy` package."
      ]
    },
    {
      "cell_type": "markdown",
      "metadata": {},
      "source": [
        "## Installation\n",
        "\n",
        "Install TheMetPy from Test PyPI:\n",
        "\n",
        "```bash\n",
        "pip install --index-url https://test.pypi.org/simple/ themetpy\n",
        "```\n"
      ]
    },
    {
      "cell_type": "markdown",
      "metadata": {},
      "source": [
        "## Importing TheMetPy\n",
        "\n",
        "Before using the package, import the required modules:"
      ]
    },
    {
      "cell_type": "code",
      "execution_count": null,
      "metadata": {},
      "outputs": [],
      "source": [
        "from themetpy import get_all_object_ids, get_object, get_departments, search\n"
      ]
    },
    {
      "cell_type": "markdown",
      "metadata": {},
      "source": [
        "## Listing All Object IDs\n",
        "\n",
        "Retrieve all available Object IDs from The Met collection. You can filter results by metadata update date and department."
      ]
    },
    {
      "cell_type": "code",
      "execution_count": null,
      "metadata": {},
      "outputs": [],
      "source": [
        "# List all object IDs\n",
        "object_ids = get_all_object_ids()\n",
        "print(f\"Total objects available: {len(object_ids)}\")\n",
        "\n",
        "# Filter by department (e.g., department ID 6 for Asian Art)\n",
        "asian_art_objects = get_all_object_ids(departmentIds=6)\n",
        "print(f\"Total objects in Asian Art: {len(asian_art_objects)}\")"
      ]
    },
    {
      "cell_type": "markdown",
      "metadata": {},
      "source": [
        "## Fetching Object Details\n",
        "\n",
        "Retrieve detailed information about a specific object using its Object ID."
      ]
    },
    {
      "cell_type": "code",
      "execution_count": null,
      "metadata": {},
      "outputs": [],
      "source": [
        "# Fetch object details\n",
        "object_id = 437133  # Example object ID\n",
        "object_details = get_object(object_id)\n",
        "print(\"Object Title:\", object_details['title'])\n",
        "print(\"Artist:\", object_details['artistDisplayName'])\n",
        "print(\"Culture:\", object_details['culture'])\n",
        "print(\"Primary Image URL:\", object_details['primaryImage'])"
      ]
    },
    {
      "cell_type": "markdown",
      "metadata": {},
      "source": [
        "## Listing Departments\n",
        "\n",
        "Retrieve a list of all departments in The Met collection, including their names and IDs."
      ]
    },
    {
      "cell_type": "code",
      "execution_count": null,
      "metadata": {},
      "outputs": [],
      "source": [
        "# List all departments\n",
        "departments = get_departments()\n",
        "for dept in departments:\n",
        "    print(f\"Department ID: {dept['departmentId']}, Name: {dept['displayName']}\")"
      ]
    },
    {
      "cell_type": "markdown",
      "metadata": {},
      "source": [
        "## Advanced Search\n",
        "\n",
        "Perform advanced searches using filters like keywords, department ID, and date range."
      ]
    },
    {
      "cell_type": "code",
      "execution_count": null,
      "metadata": {},
      "outputs": [],
      "source": [
        "# Search for objects with 'sunflowers' in their metadata\n",
        "results = search(query=\"sunflowers\", isHighlight=True, hasImages=True)\n",
        "print(f\"Number of results: {len(results)}\")\n",
        "\n",
        "# Print the first result\n",
        "if results:\n",
        "    print(\"First Object ID:\", results[0])"
      ]
    },
    {
      "cell_type": "markdown",
      "metadata": {},
      "source": [
        "## Handling Missing Data\n",
        "\n",
        "Handle missing data in object records gracefully using `handle_missing_data`."
      ]
    },
    {
      "cell_type": "code",
      "execution_count": null,
      "metadata": {},
      "outputs": [],
      "source": [
        "from themetpy.utils import handle_missing_data\n",
        "\n",
        "# Example object with potential missing fields\n",
        "object_data = {\n",
        "    \"title\": \"Artwork\",\n",
        "    # Missing 'artistDisplayName'\n",
        "}\n",
        "\n",
        "handled_data = handle_missing_data(object_data, required_fields=['title', 'artistDisplayName'], handle_missing='replace', replace_value='Unknown')\n",
        "print(handled_data)"
      ]
    },
    {
      "cell_type": "markdown",
      "metadata": {},
      "source": [
        "## Conclusion\n",
        "\n",
        "TheMetPy makes it easy to explore The Met's collection programmatically. With functions for fetching objects, listing departments, and performing advanced searches, it provides a comprehensive interface for developers and researchers. For more information, visit the official documentation or the GitHub repository."
      ]
    }
  ],
  "metadata": {
    "kernelspec": {
      "display_name": "Python 3",
      "language": "python",
      "name": "python3"
    },
    "language_info": {
      "codemirror_mode": {
        "name": "ipython",
        "version": 3
      },
      "file_extension": ".py",
      "mimetype": "text/x-python",
      "name": "python",
      "nbconvert_exporter": "python",
      "pygments_lexer": "ipython3",
      "version": "3.9.6"
    }
  },
  "nbformat": 4,
  "nbformat_minor": 5
}